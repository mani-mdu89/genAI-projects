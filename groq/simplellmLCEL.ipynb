{
 "cells": [
  {
   "cell_type": "code",
   "execution_count": 1,
   "id": "31a4f066",
   "metadata": {},
   "outputs": [],
   "source": [
    "import os\n",
    "from dotenv import load_dotenv\n",
    "load_dotenv()\n",
    "\n",
    "import openai\n",
    "openai.api_key = os.getenv(\"OPENAI_API_KEY\")\n",
    "\n",
    "groq_api_key = os.getenv(\"GROQ_API_KEY\")\n"
   ]
  },
  {
   "cell_type": "code",
   "execution_count": 3,
   "id": "b8efdb67",
   "metadata": {},
   "outputs": [
    {
     "name": "stdout",
     "output_type": "stream",
     "text": [
      "Collecting langchain_groq\n",
      "  Downloading langchain_groq-0.3.6-py3-none-any.whl.metadata (2.6 kB)\n",
      "Collecting langchain-core<1.0.0,>=0.3.68 (from langchain_groq)\n",
      "  Downloading langchain_core-0.3.68-py3-none-any.whl.metadata (5.8 kB)\n",
      "Collecting groq<1,>=0.29.0 (from langchain_groq)\n",
      "  Downloading groq-0.30.0-py3-none-any.whl.metadata (16 kB)\n",
      "Requirement already satisfied: anyio<5,>=3.5.0 in c:\\users\\manim\\appdata\\local\\programs\\python\\python312\\lib\\site-packages (from groq<1,>=0.29.0->langchain_groq) (4.9.0)\n",
      "Requirement already satisfied: distro<2,>=1.7.0 in c:\\users\\manim\\appdata\\local\\programs\\python\\python312\\lib\\site-packages (from groq<1,>=0.29.0->langchain_groq) (1.9.0)\n",
      "Requirement already satisfied: httpx<1,>=0.23.0 in c:\\users\\manim\\appdata\\local\\programs\\python\\python312\\lib\\site-packages (from groq<1,>=0.29.0->langchain_groq) (0.28.1)\n",
      "Requirement already satisfied: pydantic<3,>=1.9.0 in c:\\users\\manim\\appdata\\local\\programs\\python\\python312\\lib\\site-packages (from groq<1,>=0.29.0->langchain_groq) (2.11.7)\n",
      "Requirement already satisfied: sniffio in c:\\users\\manim\\appdata\\local\\programs\\python\\python312\\lib\\site-packages (from groq<1,>=0.29.0->langchain_groq) (1.3.1)\n",
      "Requirement already satisfied: typing-extensions<5,>=4.10 in c:\\users\\manim\\appdata\\local\\programs\\python\\python312\\lib\\site-packages (from groq<1,>=0.29.0->langchain_groq) (4.14.0)\n",
      "Requirement already satisfied: idna>=2.8 in c:\\users\\manim\\appdata\\local\\programs\\python\\python312\\lib\\site-packages (from anyio<5,>=3.5.0->groq<1,>=0.29.0->langchain_groq) (3.10)\n",
      "Requirement already satisfied: certifi in c:\\users\\manim\\appdata\\local\\programs\\python\\python312\\lib\\site-packages (from httpx<1,>=0.23.0->groq<1,>=0.29.0->langchain_groq) (2025.6.15)\n",
      "Requirement already satisfied: httpcore==1.* in c:\\users\\manim\\appdata\\local\\programs\\python\\python312\\lib\\site-packages (from httpx<1,>=0.23.0->groq<1,>=0.29.0->langchain_groq) (1.0.9)\n",
      "Requirement already satisfied: h11>=0.16 in c:\\users\\manim\\appdata\\local\\programs\\python\\python312\\lib\\site-packages (from httpcore==1.*->httpx<1,>=0.23.0->groq<1,>=0.29.0->langchain_groq) (0.16.0)\n",
      "Requirement already satisfied: langsmith>=0.3.45 in c:\\users\\manim\\appdata\\local\\programs\\python\\python312\\lib\\site-packages (from langchain-core<1.0.0,>=0.3.68->langchain_groq) (0.3.45)\n",
      "Requirement already satisfied: tenacity!=8.4.0,<10.0.0,>=8.1.0 in c:\\users\\manim\\appdata\\local\\programs\\python\\python312\\lib\\site-packages (from langchain-core<1.0.0,>=0.3.68->langchain_groq) (9.1.2)\n",
      "Requirement already satisfied: jsonpatch<2.0,>=1.33 in c:\\users\\manim\\appdata\\local\\programs\\python\\python312\\lib\\site-packages (from langchain-core<1.0.0,>=0.3.68->langchain_groq) (1.33)\n",
      "Requirement already satisfied: PyYAML>=5.3 in c:\\users\\manim\\appdata\\local\\programs\\python\\python312\\lib\\site-packages (from langchain-core<1.0.0,>=0.3.68->langchain_groq) (6.0.2)\n",
      "Requirement already satisfied: packaging<25,>=23.2 in c:\\users\\manim\\appdata\\local\\programs\\python\\python312\\lib\\site-packages (from langchain-core<1.0.0,>=0.3.68->langchain_groq) (24.2)\n",
      "Requirement already satisfied: jsonpointer>=1.9 in c:\\users\\manim\\appdata\\local\\programs\\python\\python312\\lib\\site-packages (from jsonpatch<2.0,>=1.33->langchain-core<1.0.0,>=0.3.68->langchain_groq) (3.0.0)\n",
      "Requirement already satisfied: annotated-types>=0.6.0 in c:\\users\\manim\\appdata\\local\\programs\\python\\python312\\lib\\site-packages (from pydantic<3,>=1.9.0->groq<1,>=0.29.0->langchain_groq) (0.7.0)\n",
      "Requirement already satisfied: pydantic-core==2.33.2 in c:\\users\\manim\\appdata\\local\\programs\\python\\python312\\lib\\site-packages (from pydantic<3,>=1.9.0->groq<1,>=0.29.0->langchain_groq) (2.33.2)\n",
      "Requirement already satisfied: typing-inspection>=0.4.0 in c:\\users\\manim\\appdata\\local\\programs\\python\\python312\\lib\\site-packages (from pydantic<3,>=1.9.0->groq<1,>=0.29.0->langchain_groq) (0.4.1)\n",
      "Requirement already satisfied: orjson<4.0.0,>=3.9.14 in c:\\users\\manim\\appdata\\local\\programs\\python\\python312\\lib\\site-packages (from langsmith>=0.3.45->langchain-core<1.0.0,>=0.3.68->langchain_groq) (3.10.18)\n",
      "Requirement already satisfied: requests<3,>=2 in c:\\users\\manim\\appdata\\local\\programs\\python\\python312\\lib\\site-packages (from langsmith>=0.3.45->langchain-core<1.0.0,>=0.3.68->langchain_groq) (2.32.4)\n",
      "Requirement already satisfied: requests-toolbelt<2.0.0,>=1.0.0 in c:\\users\\manim\\appdata\\local\\programs\\python\\python312\\lib\\site-packages (from langsmith>=0.3.45->langchain-core<1.0.0,>=0.3.68->langchain_groq) (1.0.0)\n",
      "Requirement already satisfied: zstandard<0.24.0,>=0.23.0 in c:\\users\\manim\\appdata\\local\\programs\\python\\python312\\lib\\site-packages (from langsmith>=0.3.45->langchain-core<1.0.0,>=0.3.68->langchain_groq) (0.23.0)\n",
      "Requirement already satisfied: charset_normalizer<4,>=2 in c:\\users\\manim\\appdata\\local\\programs\\python\\python312\\lib\\site-packages (from requests<3,>=2->langsmith>=0.3.45->langchain-core<1.0.0,>=0.3.68->langchain_groq) (3.4.2)\n",
      "Requirement already satisfied: urllib3<3,>=1.21.1 in c:\\users\\manim\\appdata\\local\\programs\\python\\python312\\lib\\site-packages (from requests<3,>=2->langsmith>=0.3.45->langchain-core<1.0.0,>=0.3.68->langchain_groq) (2.4.0)\n",
      "Downloading langchain_groq-0.3.6-py3-none-any.whl (16 kB)\n",
      "Downloading groq-0.30.0-py3-none-any.whl (131 kB)\n",
      "Downloading langchain_core-0.3.68-py3-none-any.whl (441 kB)\n",
      "Installing collected packages: groq, langchain-core, langchain_groq\n",
      "\n",
      "   ---------------------------------------- 0/3 [groq]\n",
      "   ---------------------------------------- 0/3 [groq]\n",
      "   ---------------------------------------- 0/3 [groq]\n",
      "   ---------------------------------------- 0/3 [groq]\n",
      "   ---------------------------------------- 0/3 [groq]\n",
      "   ---------------------------------------- 0/3 [groq]\n",
      "   ---------------------------------------- 0/3 [groq]\n",
      "   ---------------------------------------- 0/3 [groq]\n",
      "   ---------------------------------------- 0/3 [groq]\n",
      "   ---------------------------------------- 0/3 [groq]\n",
      "   ---------------------------------------- 0/3 [groq]\n",
      "  Attempting uninstall: langchain-core\n",
      "   ---------------------------------------- 0/3 [groq]\n",
      "    Found existing installation: langchain-core 0.3.65\n",
      "   ---------------------------------------- 0/3 [groq]\n",
      "   ------------- -------------------------- 1/3 [langchain-core]\n",
      "    Uninstalling langchain-core-0.3.65:\n",
      "   ------------- -------------------------- 1/3 [langchain-core]\n",
      "      Successfully uninstalled langchain-core-0.3.65\n",
      "   ------------- -------------------------- 1/3 [langchain-core]\n",
      "   ------------- -------------------------- 1/3 [langchain-core]\n",
      "   ------------- -------------------------- 1/3 [langchain-core]\n",
      "   ------------- -------------------------- 1/3 [langchain-core]\n",
      "   ------------- -------------------------- 1/3 [langchain-core]\n",
      "   ------------- -------------------------- 1/3 [langchain-core]\n",
      "   ------------- -------------------------- 1/3 [langchain-core]\n",
      "   ------------- -------------------------- 1/3 [langchain-core]\n",
      "   ------------- -------------------------- 1/3 [langchain-core]\n",
      "   ------------- -------------------------- 1/3 [langchain-core]\n",
      "   ------------- -------------------------- 1/3 [langchain-core]\n",
      "   ------------- -------------------------- 1/3 [langchain-core]\n",
      "   ------------- -------------------------- 1/3 [langchain-core]\n",
      "   ------------- -------------------------- 1/3 [langchain-core]\n",
      "   ------------- -------------------------- 1/3 [langchain-core]\n",
      "   ------------- -------------------------- 1/3 [langchain-core]\n",
      "   ------------- -------------------------- 1/3 [langchain-core]\n",
      "   ------------- -------------------------- 1/3 [langchain-core]\n",
      "   ------------- -------------------------- 1/3 [langchain-core]\n",
      "   ------------- -------------------------- 1/3 [langchain-core]\n",
      "   ------------- -------------------------- 1/3 [langchain-core]\n",
      "   ------------- -------------------------- 1/3 [langchain-core]\n",
      "   ------------- -------------------------- 1/3 [langchain-core]\n",
      "   ------------- -------------------------- 1/3 [langchain-core]\n",
      "   ------------- -------------------------- 1/3 [langchain-core]\n",
      "   ------------- -------------------------- 1/3 [langchain-core]\n",
      "   -------------------------- ------------- 2/3 [langchain_groq]\n",
      "   ---------------------------------------- 3/3 [langchain_groq]\n",
      "\n",
      "Successfully installed groq-0.30.0 langchain-core-0.3.68 langchain_groq-0.3.6\n"
     ]
    }
   ],
   "source": [
    "!pip install langchain_groq"
   ]
  },
  {
   "cell_type": "code",
   "execution_count": 4,
   "id": "4b3ebf67",
   "metadata": {},
   "outputs": [
    {
     "data": {
      "text/plain": [
       "ChatGroq(client=<groq.resources.chat.completions.Completions object at 0x000001B518DDD460>, async_client=<groq.resources.chat.completions.AsyncCompletions object at 0x000001B518F0BF80>, model_name='Gemma2-9b-It', model_kwargs={}, groq_api_key=SecretStr('**********'))"
      ]
     },
     "execution_count": 4,
     "metadata": {},
     "output_type": "execute_result"
    }
   ],
   "source": [
    "from langchain_openai import ChatOpenAI\n",
    "from langchain_groq import ChatGroq\n",
    "model = ChatGroq(model=\"Gemma2-9b-It\", groq_api_key=groq_api_key)\n",
    "model"
   ]
  },
  {
   "cell_type": "code",
   "execution_count": 7,
   "id": "41a7d92a",
   "metadata": {},
   "outputs": [
    {
     "data": {
      "text/plain": [
       "AIMessage(content=\"வணக்கம்! எப்படி இருக்கீங்க? (Vaṅkaṭam! Eppati irukkiṅgā?)\\n\\n\\nHere's the breakdown:\\n\\n* **வணக்கம்! (Vaṅkaṭam!)** : Hello! (formal)\\n* **எப்படி இருக்கீங்க? (Eppati irukkiṅgā?)** : How are you? (formal, respectful)\\n\\n\\n\\nLet me know if you have any other phrases you'd like translated!\\n\", additional_kwargs={}, response_metadata={'token_usage': {'completion_tokens': 110, 'prompt_tokens': 21, 'total_tokens': 131, 'completion_time': 0.2, 'prompt_time': 0.00211949, 'queue_time': 0.269467621, 'total_time': 0.20211949}, 'model_name': 'Gemma2-9b-It', 'system_fingerprint': 'fp_10c08bf97d', 'service_tier': 'on_demand', 'finish_reason': 'stop', 'logprobs': None}, id='run--89d052c5-3658-4942-86e5-81dd64efe072-0', usage_metadata={'input_tokens': 21, 'output_tokens': 110, 'total_tokens': 131})"
      ]
     },
     "execution_count": 7,
     "metadata": {},
     "output_type": "execute_result"
    }
   ],
   "source": [
    "from langchain_core.messages import HumanMessage,SystemMessage\n",
    "messages=[\n",
    "    SystemMessage(content=\"Translate the message from English to Tamil\"),\n",
    "    HumanMessage(content=\"Hello How are you?\")\n",
    "]\n",
    "result = model.invoke(messages)\n",
    "result"
   ]
  },
  {
   "cell_type": "code",
   "execution_count": 8,
   "id": "31be042b",
   "metadata": {},
   "outputs": [
    {
     "data": {
      "text/plain": [
       "\"வணக்கம்! எப்படி இருக்கீங்க? (Vaṅkaṭam! Eppati irukkiṅgā?)\\n\\n\\nHere's the breakdown:\\n\\n* **வணக்கம்! (Vaṅkaṭam!)** : Hello! (formal)\\n* **எப்படி இருக்கீங்க? (Eppati irukkiṅgā?)** : How are you? (formal, respectful)\\n\\n\\n\\nLet me know if you have any other phrases you'd like translated!\\n\""
      ]
     },
     "execution_count": 8,
     "metadata": {},
     "output_type": "execute_result"
    }
   ],
   "source": [
    "from langchain_core.output_parsers import StrOutputParser\n",
    "parser = StrOutputParser()\n",
    "parser.invoke(result)"
   ]
  },
  {
   "cell_type": "code",
   "execution_count": 9,
   "id": "0b766d1b",
   "metadata": {},
   "outputs": [
    {
     "data": {
      "text/plain": [
       "'வணக்கம்! எப்படி இருக்கீங்க? \\n\\n(Vanakkam! Eppadi irukkiengga?)\\n\\n\\nLet me break it down:\\n\\n* **வணக்கம்! (Vanakkam!)**: This is a respectful greeting in Tamil, similar to \"Hello\" or \"Greetings\".\\n* **எப்படி இருக்கீங்க? (Eppadi irukkiengga?)**: This translates to \"How are you?\"  \\n\\nRemember to use \"irukkiengga?\" when addressing someone respectfully in Tamil.\\n'"
      ]
     },
     "execution_count": 9,
     "metadata": {},
     "output_type": "execute_result"
    }
   ],
   "source": [
    "### Using LCEL chain the components\n",
    "chain=model|parser\n",
    "chain.invoke(messages)"
   ]
  },
  {
   "cell_type": "code",
   "execution_count": 10,
   "id": "b0226c06",
   "metadata": {},
   "outputs": [],
   "source": [
    "### Prompt template\n",
    "from langchain_core.prompts import ChatPromptTemplate\n",
    "generic_template=\"Translate the following into {language}:\"\n",
    "prompt = ChatPromptTemplate.from_messages(\n",
    "    [(\"system\", generic_template), (\"user\", \"{text}\")]\n",
    ")"
   ]
  },
  {
   "cell_type": "code",
   "execution_count": 11,
   "id": "da0e8e65",
   "metadata": {},
   "outputs": [
    {
     "data": {
      "text/plain": [
       "ChatPromptValue(messages=[SystemMessage(content='Translate the following into French:', additional_kwargs={}, response_metadata={}), HumanMessage(content='Hello', additional_kwargs={}, response_metadata={})])"
      ]
     },
     "execution_count": 11,
     "metadata": {},
     "output_type": "execute_result"
    }
   ],
   "source": [
    "prompt.invoke({\"language\":\"French\",\"text\":\"Hello\"})"
   ]
  },
  {
   "cell_type": "code",
   "execution_count": 12,
   "id": "fe44742d",
   "metadata": {},
   "outputs": [
    {
     "data": {
      "text/plain": [
       "\"Bonjour \\n\\n\\nLet me know if you'd like me to translate anything else!\\n\""
      ]
     },
     "execution_count": 12,
     "metadata": {},
     "output_type": "execute_result"
    }
   ],
   "source": [
    "### chaining together components with LCEL\n",
    "chain=prompt|model|parser\n",
    "chain.invoke({\"language\":\"French\", \"text\": \"Hello\"})"
   ]
  }
 ],
 "metadata": {
  "kernelspec": {
   "display_name": "Python 3",
   "language": "python",
   "name": "python3"
  },
  "language_info": {
   "codemirror_mode": {
    "name": "ipython",
    "version": 3
   },
   "file_extension": ".py",
   "mimetype": "text/x-python",
   "name": "python",
   "nbconvert_exporter": "python",
   "pygments_lexer": "ipython3",
   "version": "3.12.10"
  }
 },
 "nbformat": 4,
 "nbformat_minor": 5
}
